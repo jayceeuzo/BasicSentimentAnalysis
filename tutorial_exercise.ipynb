{
 "cells": [
  {
   "attachments": {},
   "cell_type": "markdown",
   "metadata": {},
   "source": [
    "Assuming we have a file split in 2 columns delimited by tab. First column is a binary rating and the second column. This program is a bag of words sentiment analysis model which uses the CountVectorizer to create the bag-of-words and trains a decision tree with the features from the bag-of-words.\n",
    "\n",
    "Pretty Simple stuff innit "
   ]
  },
  {
   "cell_type": "code",
   "execution_count": 1,
   "metadata": {},
   "outputs": [],
   "source": [
    "#function to load the data and get the messages and labels\n",
    "def csvload(path):\n",
    "    messages = [] #list containing messages\n",
    "    labels = [] #list containing labels for the messages\n",
    "\n",
    "    file = open(path,'r')\n",
    "    lines = file.readlines()\n",
    "\n",
    "    for line in lines:\n",
    "        labels.append(line.split('\\t')[0]) #take label part of each line\n",
    "        messages.append(line.split('\\t')[1]) #take message part of each line\n",
    "\n",
    "    return labels,messages #retunrn the messages and labels\n",
    "\n",
    "training_labels,training_messages = csvload('smsspamdataset.training.csv') #load training labels and messages\n",
    "test_labels, test_messages = csvload('smsspamdataset.test.csv') #load test labels and messages\n"
   ]
  },
  {
   "cell_type": "code",
   "execution_count": 2,
   "metadata": {},
   "outputs": [
    {
     "name": "stderr",
     "output_type": "stream",
     "text": [
      "c:\\ProgramData\\Anaconda3\\lib\\site-packages\\sklearn\\utils\\deprecation.py:87: FutureWarning: Function get_feature_names is deprecated; get_feature_names is deprecated in 1.0 and will be removed in 1.2. Please use get_feature_names_out instead.\n",
      "  warnings.warn(msg, category=FutureWarning)\n"
     ]
    }
   ],
   "source": [
    "#turning text to features\n",
    "from sklearn.feature_extraction.text import CountVectorizer\n",
    "\n",
    "trainingCVect = CountVectorizer(max_features=10000,stop_words='english')\n",
    "training_bow = trainingCVect.fit_transform(training_messages)\n",
    "training_words = trainingCVect.get_feature_names()\n",
    "\n",
    "testCVect = CountVectorizer(stop_words='english', vocabulary=training_words)\n",
    "test_bow = testCVect.fit_transform(test_messages)"
   ]
  },
  {
   "cell_type": "code",
   "execution_count": 3,
   "metadata": {},
   "outputs": [],
   "source": [
    "#training and testing classifier\n",
    "from sklearn.tree import DecisionTreeClassifier\n",
    "\n",
    "dec_tree = DecisionTreeClassifier()\n",
    "dec_tree.fit(training_bow,training_labels)\n",
    "\n",
    "pred_labels = dec_tree.predict(test_bow)"
   ]
  },
  {
   "cell_type": "code",
   "execution_count": 4,
   "metadata": {},
   "outputs": [
    {
     "name": "stdout",
     "output_type": "stream",
     "text": [
      "              precision    recall  f1-score   support\n",
      "\n",
      "           0       0.97      0.99      0.98      2235\n",
      "           1       0.90      0.80      0.85       338\n",
      "\n",
      "    accuracy                           0.96      2573\n",
      "   macro avg       0.93      0.89      0.91      2573\n",
      "weighted avg       0.96      0.96      0.96      2573\n",
      "\n"
     ]
    }
   ],
   "source": [
    "from sklearn.metrics import classification_report\n",
    "\n",
    "#compute precision, recall and f-measure for each classification label\n",
    "print(classification_report(test_labels,pred_labels))"
   ]
  }
 ],
 "metadata": {
  "kernelspec": {
   "display_name": "base",
   "language": "python",
   "name": "python3"
  },
  "language_info": {
   "codemirror_mode": {
    "name": "ipython",
    "version": 3
   },
   "file_extension": ".py",
   "mimetype": "text/x-python",
   "name": "python",
   "nbconvert_exporter": "python",
   "pygments_lexer": "ipython3",
   "version": "3.9.13"
  },
  "orig_nbformat": 4
 },
 "nbformat": 4,
 "nbformat_minor": 2
}
